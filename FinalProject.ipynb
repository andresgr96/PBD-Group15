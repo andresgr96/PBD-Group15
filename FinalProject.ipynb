{
 "cells": [
  {
   "cell_type": "markdown",
   "id": "4ba13a38",
   "metadata": {},
   "source": [
    "# Final Project Group 15\n",
    "\n",
    "In this notebook we will carry out the experiments to support our research questions.\n",
    "\n",
    "Group Members:\n",
    "\n",
    "\n",
    "Andres Garcia - 2646142\n",
    "Yuanchao Lu - 2700631"
   ]
  },
  {
   "cell_type": "markdown",
   "id": "2bf41f05",
   "metadata": {},
   "source": [
    "## Package Imports\n",
    "\n",
    "Run the cell below first always!"
   ]
  },
  {
   "cell_type": "code",
   "execution_count": 1,
   "id": "5302ba87",
   "metadata": {},
   "outputs": [],
   "source": [
    "# Run this cell before anything else to import the packages you are allowed to used for this assignment\n",
    "\n",
    "import numpy as np\n",
    "import pandas as pd\n",
    "import sklearn\n",
    "from scipy import stats\n",
    "import statsmodels.api as sm\n",
    "import matplotlib.pyplot as plt\n",
    "\n",
    "pd.options.display.max_rows = 20"
   ]
  },
  {
   "cell_type": "markdown",
   "id": "eea6b381",
   "metadata": {},
   "source": [
    "## Loading the Datasets"
   ]
  },
  {
   "cell_type": "code",
   "execution_count": 2,
   "id": "d6331122",
   "metadata": {},
   "outputs": [
    {
     "name": "stderr",
     "output_type": "stream",
     "text": [
      "C:\\Users\\andre\\AppData\\Local\\Temp\\ipykernel_19072\\1395339777.py:7: FutureWarning: The error_bad_lines argument has been deprecated and will be removed in a future version. Use on_bad_lines in the future.\n",
      "\n",
      "\n",
      "  booksdf = pd.read_csv(booksdatafile, sep=\";\",\n",
      "Skipping line 6452: expected 8 fields, saw 9\n",
      "Skipping line 43667: expected 8 fields, saw 10\n",
      "Skipping line 51751: expected 8 fields, saw 9\n",
      "\n",
      "Skipping line 92038: expected 8 fields, saw 9\n",
      "Skipping line 104319: expected 8 fields, saw 9\n",
      "Skipping line 121768: expected 8 fields, saw 9\n",
      "\n",
      "Skipping line 144058: expected 8 fields, saw 9\n",
      "Skipping line 150789: expected 8 fields, saw 9\n",
      "Skipping line 157128: expected 8 fields, saw 9\n",
      "Skipping line 180189: expected 8 fields, saw 9\n",
      "Skipping line 185738: expected 8 fields, saw 9\n",
      "\n",
      "Skipping line 209388: expected 8 fields, saw 9\n",
      "Skipping line 220626: expected 8 fields, saw 9\n",
      "Skipping line 227933: expected 8 fields, saw 11\n",
      "Skipping line 228957: expected 8 fields, saw 10\n",
      "Skipping line 245933: expected 8 fields, saw 9\n",
      "Skipping line 251296: expected 8 fields, saw 9\n",
      "Skipping line 259941: expected 8 fields, saw 9\n",
      "Skipping line 261529: expected 8 fields, saw 9\n",
      "\n",
      "C:\\Users\\andre\\AppData\\Local\\Temp\\ipykernel_19072\\1395339777.py:7: DtypeWarning: Columns (3) have mixed types. Specify dtype option on import or set low_memory=False.\n",
      "  booksdf = pd.read_csv(booksdatafile, sep=\";\",\n",
      "C:\\Users\\andre\\AppData\\Local\\Temp\\ipykernel_19072\\1395339777.py:11: FutureWarning: The error_bad_lines argument has been deprecated and will be removed in a future version. Use on_bad_lines in the future.\n",
      "\n",
      "\n",
      "  ratingsdf = pd.read_csv(ratingsdatafile, sep=\";\",\n",
      "C:\\Users\\andre\\AppData\\Local\\Temp\\ipykernel_19072\\1395339777.py:13: FutureWarning: The error_bad_lines argument has been deprecated and will be removed in a future version. Use on_bad_lines in the future.\n",
      "\n",
      "\n",
      "  usersdf = pd.read_csv(usersdatafile, sep=';',\n"
     ]
    }
   ],
   "source": [
    "#store the data files location\n",
    "booksdatafile   = 'books_data/books.csv'\n",
    "ratingsdatafile  = 'books_data/ratings.csv'\n",
    "usersdatafile = 'books_data/users.csv'\n",
    "\n",
    "#load the data as dataframes\n",
    "booksdf = pd.read_csv(booksdatafile, sep=\";\", \n",
    "                    error_bad_lines=False, encoding=\"latin-1\")\n",
    "booksdf.drop(['Image-URL-S', 'Image-URL-M', 'Image-URL-L'],axis=1,inplace=True) #remove the columns we wont use\n",
    "\n",
    "ratingsdf = pd.read_csv(ratingsdatafile, sep=\";\", \n",
    "                    error_bad_lines=False, encoding=\"latin-1\");\n",
    "usersdf = pd.read_csv(usersdatafile, sep=';', \n",
    "                    error_bad_lines=False, encoding=\"latin-1\");"
   ]
  },
  {
   "cell_type": "markdown",
   "id": "2b0f807d",
   "metadata": {},
   "source": [
    "### Books Dataset"
   ]
  },
  {
   "cell_type": "code",
   "execution_count": 3,
   "id": "053b5e58",
   "metadata": {},
   "outputs": [
    {
     "data": {
      "text/html": [
       "<div>\n",
       "<style scoped>\n",
       "    .dataframe tbody tr th:only-of-type {\n",
       "        vertical-align: middle;\n",
       "    }\n",
       "\n",
       "    .dataframe tbody tr th {\n",
       "        vertical-align: top;\n",
       "    }\n",
       "\n",
       "    .dataframe thead th {\n",
       "        text-align: right;\n",
       "    }\n",
       "</style>\n",
       "<table border=\"1\" class=\"dataframe\">\n",
       "  <thead>\n",
       "    <tr style=\"text-align: right;\">\n",
       "      <th></th>\n",
       "      <th>ISBN</th>\n",
       "      <th>Book-Title</th>\n",
       "      <th>Book-Author</th>\n",
       "      <th>Year-Of-Publication</th>\n",
       "      <th>Publisher</th>\n",
       "    </tr>\n",
       "  </thead>\n",
       "  <tbody>\n",
       "    <tr>\n",
       "      <th>0</th>\n",
       "      <td>0195153448</td>\n",
       "      <td>Classical Mythology</td>\n",
       "      <td>Mark P. O. Morford</td>\n",
       "      <td>2002</td>\n",
       "      <td>Oxford University Press</td>\n",
       "    </tr>\n",
       "    <tr>\n",
       "      <th>1</th>\n",
       "      <td>0002005018</td>\n",
       "      <td>Clara Callan</td>\n",
       "      <td>Richard Bruce Wright</td>\n",
       "      <td>2001</td>\n",
       "      <td>HarperFlamingo Canada</td>\n",
       "    </tr>\n",
       "    <tr>\n",
       "      <th>2</th>\n",
       "      <td>0060973129</td>\n",
       "      <td>Decision in Normandy</td>\n",
       "      <td>Carlo D'Este</td>\n",
       "      <td>1991</td>\n",
       "      <td>HarperPerennial</td>\n",
       "    </tr>\n",
       "    <tr>\n",
       "      <th>3</th>\n",
       "      <td>0374157065</td>\n",
       "      <td>Flu: The Story of the Great Influenza Pandemic...</td>\n",
       "      <td>Gina Bari Kolata</td>\n",
       "      <td>1999</td>\n",
       "      <td>Farrar Straus Giroux</td>\n",
       "    </tr>\n",
       "    <tr>\n",
       "      <th>4</th>\n",
       "      <td>0393045218</td>\n",
       "      <td>The Mummies of Urumchi</td>\n",
       "      <td>E. J. W. Barber</td>\n",
       "      <td>1999</td>\n",
       "      <td>W. W. Norton &amp;amp; Company</td>\n",
       "    </tr>\n",
       "  </tbody>\n",
       "</table>\n",
       "</div>"
      ],
      "text/plain": [
       "         ISBN                                         Book-Title  \\\n",
       "0  0195153448                                Classical Mythology   \n",
       "1  0002005018                                       Clara Callan   \n",
       "2  0060973129                               Decision in Normandy   \n",
       "3  0374157065  Flu: The Story of the Great Influenza Pandemic...   \n",
       "4  0393045218                             The Mummies of Urumchi   \n",
       "\n",
       "            Book-Author Year-Of-Publication                   Publisher  \n",
       "0    Mark P. O. Morford                2002     Oxford University Press  \n",
       "1  Richard Bruce Wright                2001       HarperFlamingo Canada  \n",
       "2          Carlo D'Este                1991             HarperPerennial  \n",
       "3      Gina Bari Kolata                1999        Farrar Straus Giroux  \n",
       "4       E. J. W. Barber                1999  W. W. Norton &amp; Company  "
      ]
     },
     "execution_count": 3,
     "metadata": {},
     "output_type": "execute_result"
    }
   ],
   "source": [
    "booksdf.head()"
   ]
  },
  {
   "cell_type": "markdown",
   "id": "0152188d",
   "metadata": {},
   "source": [
    "### Users Dataset"
   ]
  },
  {
   "cell_type": "code",
   "execution_count": 4,
   "id": "b6a8e00b",
   "metadata": {},
   "outputs": [
    {
     "data": {
      "text/html": [
       "<div>\n",
       "<style scoped>\n",
       "    .dataframe tbody tr th:only-of-type {\n",
       "        vertical-align: middle;\n",
       "    }\n",
       "\n",
       "    .dataframe tbody tr th {\n",
       "        vertical-align: top;\n",
       "    }\n",
       "\n",
       "    .dataframe thead th {\n",
       "        text-align: right;\n",
       "    }\n",
       "</style>\n",
       "<table border=\"1\" class=\"dataframe\">\n",
       "  <thead>\n",
       "    <tr style=\"text-align: right;\">\n",
       "      <th></th>\n",
       "      <th>User-ID</th>\n",
       "      <th>Location</th>\n",
       "      <th>Age</th>\n",
       "    </tr>\n",
       "  </thead>\n",
       "  <tbody>\n",
       "    <tr>\n",
       "      <th>0</th>\n",
       "      <td>1</td>\n",
       "      <td>nyc, new york, usa</td>\n",
       "      <td>NaN</td>\n",
       "    </tr>\n",
       "    <tr>\n",
       "      <th>1</th>\n",
       "      <td>2</td>\n",
       "      <td>stockton, california, usa</td>\n",
       "      <td>18.0</td>\n",
       "    </tr>\n",
       "    <tr>\n",
       "      <th>2</th>\n",
       "      <td>3</td>\n",
       "      <td>moscow, yukon territory, russia</td>\n",
       "      <td>NaN</td>\n",
       "    </tr>\n",
       "    <tr>\n",
       "      <th>3</th>\n",
       "      <td>4</td>\n",
       "      <td>porto, v.n.gaia, portugal</td>\n",
       "      <td>17.0</td>\n",
       "    </tr>\n",
       "    <tr>\n",
       "      <th>4</th>\n",
       "      <td>5</td>\n",
       "      <td>farnborough, hants, united kingdom</td>\n",
       "      <td>NaN</td>\n",
       "    </tr>\n",
       "  </tbody>\n",
       "</table>\n",
       "</div>"
      ],
      "text/plain": [
       "   User-ID                            Location   Age\n",
       "0        1                  nyc, new york, usa   NaN\n",
       "1        2           stockton, california, usa  18.0\n",
       "2        3     moscow, yukon territory, russia   NaN\n",
       "3        4           porto, v.n.gaia, portugal  17.0\n",
       "4        5  farnborough, hants, united kingdom   NaN"
      ]
     },
     "execution_count": 4,
     "metadata": {},
     "output_type": "execute_result"
    }
   ],
   "source": [
    "usersdf.head()"
   ]
  },
  {
   "cell_type": "markdown",
   "id": "f062c2c7",
   "metadata": {},
   "source": [
    "### Ratings Dataset"
   ]
  },
  {
   "cell_type": "code",
   "execution_count": 5,
   "id": "ea1aafef",
   "metadata": {},
   "outputs": [
    {
     "data": {
      "text/html": [
       "<div>\n",
       "<style scoped>\n",
       "    .dataframe tbody tr th:only-of-type {\n",
       "        vertical-align: middle;\n",
       "    }\n",
       "\n",
       "    .dataframe tbody tr th {\n",
       "        vertical-align: top;\n",
       "    }\n",
       "\n",
       "    .dataframe thead th {\n",
       "        text-align: right;\n",
       "    }\n",
       "</style>\n",
       "<table border=\"1\" class=\"dataframe\">\n",
       "  <thead>\n",
       "    <tr style=\"text-align: right;\">\n",
       "      <th></th>\n",
       "      <th>User-ID</th>\n",
       "      <th>ISBN</th>\n",
       "      <th>Book-Rating</th>\n",
       "    </tr>\n",
       "  </thead>\n",
       "  <tbody>\n",
       "    <tr>\n",
       "      <th>0</th>\n",
       "      <td>276725</td>\n",
       "      <td>034545104X</td>\n",
       "      <td>0</td>\n",
       "    </tr>\n",
       "    <tr>\n",
       "      <th>1</th>\n",
       "      <td>276726</td>\n",
       "      <td>0155061224</td>\n",
       "      <td>5</td>\n",
       "    </tr>\n",
       "    <tr>\n",
       "      <th>2</th>\n",
       "      <td>276727</td>\n",
       "      <td>0446520802</td>\n",
       "      <td>0</td>\n",
       "    </tr>\n",
       "    <tr>\n",
       "      <th>3</th>\n",
       "      <td>276729</td>\n",
       "      <td>052165615X</td>\n",
       "      <td>3</td>\n",
       "    </tr>\n",
       "    <tr>\n",
       "      <th>4</th>\n",
       "      <td>276729</td>\n",
       "      <td>0521795028</td>\n",
       "      <td>6</td>\n",
       "    </tr>\n",
       "  </tbody>\n",
       "</table>\n",
       "</div>"
      ],
      "text/plain": [
       "   User-ID        ISBN  Book-Rating\n",
       "0   276725  034545104X            0\n",
       "1   276726  0155061224            5\n",
       "2   276727  0446520802            0\n",
       "3   276729  052165615X            3\n",
       "4   276729  0521795028            6"
      ]
     },
     "execution_count": 5,
     "metadata": {},
     "output_type": "execute_result"
    }
   ],
   "source": [
    "ratingsdf.head()"
   ]
  },
  {
   "cell_type": "markdown",
   "id": "81449890",
   "metadata": {},
   "source": [
    "## Merging the frames\n",
    "In order to avoid some calculations all over the dataframes provided, we instead can merge them toguether since the three dataframes are connected through the user-id and the ISBN columns. This way it will be much easier to query the merged frame for information."
   ]
  },
  {
   "cell_type": "code",
   "execution_count": 6,
   "id": "2f143cf9",
   "metadata": {},
   "outputs": [
    {
     "data": {
      "text/html": [
       "<div>\n",
       "<style scoped>\n",
       "    .dataframe tbody tr th:only-of-type {\n",
       "        vertical-align: middle;\n",
       "    }\n",
       "\n",
       "    .dataframe tbody tr th {\n",
       "        vertical-align: top;\n",
       "    }\n",
       "\n",
       "    .dataframe thead th {\n",
       "        text-align: right;\n",
       "    }\n",
       "</style>\n",
       "<table border=\"1\" class=\"dataframe\">\n",
       "  <thead>\n",
       "    <tr style=\"text-align: right;\">\n",
       "      <th></th>\n",
       "      <th>User-ID</th>\n",
       "      <th>ISBN</th>\n",
       "      <th>Book-Rating</th>\n",
       "      <th>Book-Title</th>\n",
       "      <th>Book-Author</th>\n",
       "      <th>Year-Of-Publication</th>\n",
       "      <th>Publisher</th>\n",
       "      <th>Location</th>\n",
       "      <th>Age</th>\n",
       "    </tr>\n",
       "  </thead>\n",
       "  <tbody>\n",
       "    <tr>\n",
       "      <th>0</th>\n",
       "      <td>276725</td>\n",
       "      <td>034545104X</td>\n",
       "      <td>0</td>\n",
       "      <td>Flesh Tones: A Novel</td>\n",
       "      <td>M. J. Rose</td>\n",
       "      <td>2002</td>\n",
       "      <td>Ballantine Books</td>\n",
       "      <td>tyler, texas, usa</td>\n",
       "      <td>NaN</td>\n",
       "    </tr>\n",
       "    <tr>\n",
       "      <th>1</th>\n",
       "      <td>2313</td>\n",
       "      <td>034545104X</td>\n",
       "      <td>5</td>\n",
       "      <td>Flesh Tones: A Novel</td>\n",
       "      <td>M. J. Rose</td>\n",
       "      <td>2002</td>\n",
       "      <td>Ballantine Books</td>\n",
       "      <td>cincinnati, ohio, usa</td>\n",
       "      <td>23.0</td>\n",
       "    </tr>\n",
       "    <tr>\n",
       "      <th>2</th>\n",
       "      <td>2313</td>\n",
       "      <td>0812533550</td>\n",
       "      <td>9</td>\n",
       "      <td>Ender's Game (Ender Wiggins Saga (Paperback))</td>\n",
       "      <td>Orson Scott Card</td>\n",
       "      <td>1986</td>\n",
       "      <td>Tor Books</td>\n",
       "      <td>cincinnati, ohio, usa</td>\n",
       "      <td>23.0</td>\n",
       "    </tr>\n",
       "    <tr>\n",
       "      <th>3</th>\n",
       "      <td>2313</td>\n",
       "      <td>0679745580</td>\n",
       "      <td>8</td>\n",
       "      <td>In Cold Blood (Vintage International)</td>\n",
       "      <td>TRUMAN CAPOTE</td>\n",
       "      <td>1994</td>\n",
       "      <td>Vintage</td>\n",
       "      <td>cincinnati, ohio, usa</td>\n",
       "      <td>23.0</td>\n",
       "    </tr>\n",
       "    <tr>\n",
       "      <th>4</th>\n",
       "      <td>2313</td>\n",
       "      <td>0060173289</td>\n",
       "      <td>9</td>\n",
       "      <td>Divine Secrets of the Ya-Ya Sisterhood : A Novel</td>\n",
       "      <td>Rebecca Wells</td>\n",
       "      <td>1996</td>\n",
       "      <td>HarperCollins</td>\n",
       "      <td>cincinnati, ohio, usa</td>\n",
       "      <td>23.0</td>\n",
       "    </tr>\n",
       "  </tbody>\n",
       "</table>\n",
       "</div>"
      ],
      "text/plain": [
       "   User-ID        ISBN  Book-Rating  \\\n",
       "0   276725  034545104X            0   \n",
       "1     2313  034545104X            5   \n",
       "2     2313  0812533550            9   \n",
       "3     2313  0679745580            8   \n",
       "4     2313  0060173289            9   \n",
       "\n",
       "                                         Book-Title       Book-Author  \\\n",
       "0                              Flesh Tones: A Novel        M. J. Rose   \n",
       "1                              Flesh Tones: A Novel        M. J. Rose   \n",
       "2     Ender's Game (Ender Wiggins Saga (Paperback))  Orson Scott Card   \n",
       "3             In Cold Blood (Vintage International)     TRUMAN CAPOTE   \n",
       "4  Divine Secrets of the Ya-Ya Sisterhood : A Novel     Rebecca Wells   \n",
       "\n",
       "  Year-Of-Publication         Publisher               Location   Age  \n",
       "0                2002  Ballantine Books      tyler, texas, usa   NaN  \n",
       "1                2002  Ballantine Books  cincinnati, ohio, usa  23.0  \n",
       "2                1986         Tor Books  cincinnati, ohio, usa  23.0  \n",
       "3                1994           Vintage  cincinnati, ohio, usa  23.0  \n",
       "4                1996     HarperCollins  cincinnati, ohio, usa  23.0  "
      ]
     },
     "execution_count": 6,
     "metadata": {},
     "output_type": "execute_result"
    }
   ],
   "source": [
    "merge_rating_books = pd.merge(ratingsdf, booksdf, on='ISBN')\n",
    "finaldf = pd.merge(merge_rating_books, usersdf, on='User-ID')\n",
    "finaldf.head(5)"
   ]
  },
  {
   "cell_type": "markdown",
   "id": "67ed2281",
   "metadata": {},
   "source": [
    "It is important to understand that some information will be easier to access from the individual dataframes, for example, calculating how many users are from a given country should be done in the individual dataframe, as the merge one will contain several instances of the same user if they have bought more than one book, which will produce a seemingly valid yet incorrect representation of the user demographics."
   ]
  },
  {
   "cell_type": "markdown",
   "id": "6d369085",
   "metadata": {},
   "source": [
    "# Data Analysys\n",
    "In this section we will carry out all the statistical data analysis in order to obtain valuable data to support or inspire our research questions"
   ]
  },
  {
   "cell_type": "markdown",
   "id": "b30614ce",
   "metadata": {},
   "source": [
    "### Average Book Rating"
   ]
  },
  {
   "cell_type": "code",
   "execution_count": 7,
   "id": "051c7903",
   "metadata": {},
   "outputs": [
    {
     "name": "stdout",
     "output_type": "stream",
     "text": [
      "Average book rating: 2.839051298761754\n"
     ]
    }
   ],
   "source": [
    "mean_book_rating = finaldf[\"Book-Rating\"].mean()\n",
    "print(\"Average book rating:\", mean_book_rating)"
   ]
  },
  {
   "cell_type": "markdown",
   "id": "c7f42feb",
   "metadata": {},
   "source": [
    "### Highest Rated Author"
   ]
  },
  {
   "cell_type": "code",
   "execution_count": 8,
   "id": "5f4262bc",
   "metadata": {},
   "outputs": [
    {
     "name": "stdout",
     "output_type": "stream",
     "text": [
      "Author with the highest average book ratings: A. D. Mills\n"
     ]
    }
   ],
   "source": [
    "mean_author_ratings = finaldf.groupby(['Book-Author'])['Book-Rating'].mean()\n",
    "highest_rated_author = mean_author_ratings.idxmax()\n",
    "print(\"Author with the highest average book ratings:\", highest_rated_author)"
   ]
  },
  {
   "cell_type": "markdown",
   "id": "de17fc11",
   "metadata": {},
   "source": [
    "### Highest Rated Publisher"
   ]
  },
  {
   "cell_type": "code",
   "execution_count": 9,
   "id": "3cd1ab97",
   "metadata": {},
   "outputs": [
    {
     "name": "stdout",
     "output_type": "stream",
     "text": [
      "Publisher with the highest average book ratings:  Editions P. Terrail\n"
     ]
    }
   ],
   "source": [
    "mean_pub_ratings = finaldf.groupby(['Publisher'])['Book-Rating'].mean()\n",
    "highest_rated_pub = mean_pub_ratings.idxmax()\n",
    "print(\"Publisher with the highest average book ratings:\", highest_rated_pub)"
   ]
  },
  {
   "cell_type": "markdown",
   "id": "6ac93f52",
   "metadata": {},
   "source": [
    "### Top Rated Books"
   ]
  },
  {
   "cell_type": "code",
   "execution_count": 55,
   "id": "63fe69c0",
   "metadata": {
    "scrolled": true
   },
   "outputs": [
    {
     "name": "stdout",
     "output_type": "stream",
     "text": [
      "-----------------------------------------------------Top 10 Rated Books--------------------------------------------------\n",
      "Nr. 1 - Harry Potter and the Prisoner of Azkaban (Book 3)\n",
      "Nr. 2 - Harry Potter and the Goblet of Fire (Book 4)\n",
      "Nr. 3 - The Little Prince\n",
      "Nr. 4 - Harry Potter and the Sorcerer's Stone (Book 1)\n",
      "Nr. 5 - Harry Potter and the Order of the Phoenix (Book 5)\n",
      "Nr. 6 - Ender's Game (Ender Wiggins Saga (Paperback))\n",
      "Nr. 7 - Harry Potter and the Chamber of Secrets (Book 2)\n",
      "Nr. 8 - The Perks of Being a Wallflower\n",
      "Nr. 9 - The Hobbit : The Enchanting Prelude to The Lord of the Rings\n",
      "Nr. 10 - The Fellowship of the Ring (The Lord of the Rings, Part 1)\n"
     ]
    }
   ],
   "source": [
    "#extract first the book ratings\n",
    "mean_book_ratings = finaldf.groupby(['Book-Title'])['Book-Rating'].mean()\n",
    "count_book_ratings = finaldf.groupby(['Book-Title'])['Book-Rating'].count()\n",
    "book_ratings = pd.DataFrame({'Mean-Rating': mean_book_ratings, 'Rating-Count': count_book_ratings})\n",
    "\n",
    "#make sure the books have at least 5 ratings, otherwise the top rated book can be a book with just one 10 star rating\n",
    "filtered_books = book_ratings[book_ratings['Rating-Count'] >= 100]\n",
    "sorted_books = filtered_books.sort_values(by='Mean-Rating', ascending=False)\n",
    "top_rated_books = sorted_books.head(10)\n",
    "\n",
    "\n",
    "print(\"-----------------------------------------------------Top 10 Rated Books--------------------------------------------------\")\n",
    "i = 1\n",
    "for title, row in top_rated_books.iterrows():\n",
    "    print(\"Nr. \" + str(i) + \" - \" + title)\n",
    "    i += 1\n"
   ]
  },
  {
   "cell_type": "markdown",
   "id": "1ed5a3ff",
   "metadata": {},
   "source": [
    "### Highest Rated Books by Users Who Dislike The Top Rated Book"
   ]
  },
  {
   "cell_type": "code",
   "execution_count": 57,
   "id": "e0430dc7",
   "metadata": {},
   "outputs": [
    {
     "name": "stdout",
     "output_type": "stream",
     "text": [
      "The most liked book by users who disliked the top reated book is: Harry Potter and the Chamber of Secrets (Book 2)\n"
     ]
    }
   ],
   "source": [
    "#we define an user disliking a book if it rated it 5 or below\n",
    "users_disliked_top = merge_rating_books[(merge_rating_books['Book-Title'] == 'Harry Potter and the Prisoner of Azkaban (Book 3)') & (merge_rating_books['Book-Rating'] <= 5)]\n",
    "id_list = users_disliked_top['User-ID'].unique()\n",
    "filtered_df = merge_rating_books[merge_rating_books['User-ID'].isin(id_list)]\n",
    "\n",
    "#remove the book since it could be returned as the most liked book\n",
    "filtered_df = filtered_df[filtered_df['Book-Title'] != 'Harry Potter and the Prisoner of Azkaban (Book 3)']\n",
    "pop = filtered_df['Book-Title'].value_counts()\n",
    "most_pop = pop.idxmax()\n",
    "\n",
    "print(\"The most liked book by users who disliked the top reated book is: \" + most_pop)"
   ]
  },
  {
   "cell_type": "markdown",
   "id": "612b6757",
   "metadata": {},
   "source": [
    "# Users Age Data Statistical Analysis"
   ]
  },
  {
   "cell_type": "code",
   "execution_count": 11,
   "id": "406a750b",
   "metadata": {},
   "outputs": [
    {
     "data": {
      "text/html": [
       "<div>\n",
       "<style scoped>\n",
       "    .dataframe tbody tr th:only-of-type {\n",
       "        vertical-align: middle;\n",
       "    }\n",
       "\n",
       "    .dataframe tbody tr th {\n",
       "        vertical-align: top;\n",
       "    }\n",
       "\n",
       "    .dataframe thead th {\n",
       "        text-align: right;\n",
       "    }\n",
       "</style>\n",
       "<table border=\"1\" class=\"dataframe\">\n",
       "  <thead>\n",
       "    <tr style=\"text-align: right;\">\n",
       "      <th></th>\n",
       "      <th>User-ID</th>\n",
       "      <th>Location</th>\n",
       "      <th>Age</th>\n",
       "    </tr>\n",
       "  </thead>\n",
       "  <tbody>\n",
       "    <tr>\n",
       "      <th>1</th>\n",
       "      <td>2</td>\n",
       "      <td>stockton, california, usa</td>\n",
       "      <td>18.0</td>\n",
       "    </tr>\n",
       "    <tr>\n",
       "      <th>3</th>\n",
       "      <td>4</td>\n",
       "      <td>porto, v.n.gaia, portugal</td>\n",
       "      <td>17.0</td>\n",
       "    </tr>\n",
       "    <tr>\n",
       "      <th>5</th>\n",
       "      <td>6</td>\n",
       "      <td>santa monica, california, usa</td>\n",
       "      <td>61.0</td>\n",
       "    </tr>\n",
       "    <tr>\n",
       "      <th>9</th>\n",
       "      <td>10</td>\n",
       "      <td>albacete, wisconsin, spain</td>\n",
       "      <td>26.0</td>\n",
       "    </tr>\n",
       "    <tr>\n",
       "      <th>10</th>\n",
       "      <td>11</td>\n",
       "      <td>melbourne, victoria, australia</td>\n",
       "      <td>14.0</td>\n",
       "    </tr>\n",
       "  </tbody>\n",
       "</table>\n",
       "</div>"
      ],
      "text/plain": [
       "    User-ID                        Location   Age\n",
       "1         2       stockton, california, usa  18.0\n",
       "3         4       porto, v.n.gaia, portugal  17.0\n",
       "5         6   santa monica, california, usa  61.0\n",
       "9        10      albacete, wisconsin, spain  26.0\n",
       "10       11  melbourne, victoria, australia  14.0"
      ]
     },
     "execution_count": 11,
     "metadata": {},
     "output_type": "execute_result"
    }
   ],
   "source": [
    "#first we drop all rows where the user didnt enter their age or entered 0\n",
    "clean_users = usersdf.dropna(subset=['Age'])\n",
    "clean_users = clean_users[clean_users['Age'] != 0]\n",
    "clean_users.head(5) "
   ]
  },
  {
   "cell_type": "markdown",
   "id": "96391b89",
   "metadata": {},
   "source": [
    "## Users Age Demographics"
   ]
  },
  {
   "cell_type": "code",
   "execution_count": 12,
   "id": "6a367f9f",
   "metadata": {},
   "outputs": [],
   "source": [
    "#declare the age groups\n",
    "children_to = 13\n",
    "teenager_to = 18\n",
    "adult_to = 65"
   ]
  },
  {
   "cell_type": "code",
   "execution_count": 13,
   "id": "0c0915c9",
   "metadata": {},
   "outputs": [
    {
     "name": "stdout",
     "output_type": "stream",
     "text": [
      "Amount of Children Users: 1050\n",
      "Amount of Teenager Users: 10844\n",
      "Amount of Adult Users: 151106\n",
      "Amount of Elderly Users: 4680\n",
      "Total Users: 167680\n"
     ]
    }
   ],
   "source": [
    "#extract the age groups\n",
    "children_users = clean_users[clean_users['Age'] < children_to]\n",
    "teeneager_users = clean_users[(clean_users['Age'] >= children_to) & (clean_users['Age'] < teenager_to)]\n",
    "adult_users = clean_users[(clean_users['Age'] >= teenager_to) & (clean_users['Age'] < adult_to)]\n",
    "elder_users = clean_users[clean_users['Age'] >= adult_to]\n",
    "\n",
    "#save the numbers in variables for graphing\n",
    "n_children = len(children_users)\n",
    "n_teeneagers = len(teeneager_users)\n",
    "n_adults = len(adult_users) \n",
    "n_elders = len(elder_users)\n",
    "total_users = n_children + n_teeneagers + n_adults + n_elders\n",
    "\n",
    "#print rhe results\n",
    "print('Amount of Children Users: ' + str(n_children))\n",
    "print('Amount of Teenager Users: ' + str(n_teeneagers))\n",
    "print('Amount of Adult Users: ' + str(n_adults))\n",
    "print('Amount of Elderly Users: ' + str(n_elders))\n",
    "print('Total Users: ' + str(total_users))"
   ]
  },
  {
   "cell_type": "code",
   "execution_count": 14,
   "id": "51e8a4b5",
   "metadata": {},
   "outputs": [
    {
     "data": {
      "image/png": "[encoded data removed]",
      "text/plain": [
       "<Figure size 1200x500 with 2 Axes>"
      ]
     },
     "metadata": {},
     "output_type": "display_data"
    }
   ],
   "source": [
    "import matplotlib.pyplot as plt\n",
    "\n",
    "values_bar = [n_children, n_teeneagers, n_adults, n_elders]\n",
    "labels_bar = ['Children', 'Teenagers', 'Adults', 'Elderly']\n",
    "\n",
    "values_pie = [n_children, n_teeneagers, n_adults, n_elders]\n",
    "labels_pie = ['Children', 'Teenagers', 'Adults', 'Elderly']\n",
    "\n",
    "#some chatgpt magic to display to plots side by side\n",
    "fig, axs = plt.subplots(1, 2, figsize=(12, 5), gridspec_kw={'width_ratios': [2, 1]})\n",
    "\n",
    "#bar graph\n",
    "ax1 = axs[0]\n",
    "ax1.bar(labels_bar, values_bar)\n",
    "ax1.set_xlabel('Age Groups')\n",
    "ax1.set_ylabel('Number of Users')\n",
    "ax1.set_title('Age Group Demographics')\n",
    "\n",
    "#pie chart, i think this is not considered scientific \n",
    "ax2 = axs[1]\n",
    "ax2.pie(values_pie, labels=labels_pie, autopct='%1.1f%%')\n",
    "ax2.set_title('User Percentage by Age Group')\n",
    "\n",
    "#display them\n",
    "plt.subplots_adjust(wspace=0.4)\n",
    "plt.show()\n"
   ]
  },
  {
   "cell_type": "markdown",
   "id": "23a72ec3",
   "metadata": {},
   "source": [
    "## Highest Rated Book by Age Group"
   ]
  },
  {
   "cell_type": "code",
   "execution_count": 15,
   "id": "cebf9696",
   "metadata": {},
   "outputs": [
    {
     "name": "stdout",
     "output_type": "stream",
     "text": [
      "Highest Rated Book by Children:  Final Fantasy Anthology: Official Strategy Guide (Brady Games)\n",
      "Highest Rated Book by Teenagers: 1,001 Computer Hints &amp; Tips: An A-To-Z Guide to Making the Most of Your Computer and the Internet\n",
      "Highest Rated Book by Adults:  Dark Justice\n",
      "Highest Rated Book by Elders: 1421: The Year China Discovered America\n"
     ]
    }
   ],
   "source": [
    "#create a copy of the merged df so we dont mees with the original one, always remember to do this in experiments\n",
    "new_df = finaldf.copy()\n",
    "\n",
    "#clean the new df\n",
    "new_df = new_df.dropna(subset=['Age'])\n",
    "new_df = new_df[new_df['Age'] != 0]\n",
    "\n",
    "#extract the highest rated book by children\n",
    "children_ratings = new_df[new_df['Age'] < children_to]\n",
    "avg_children_ratings = children_ratings.groupby(['Book-Title'])['Book-Rating'].mean()\n",
    "highest_rated_children = avg_children_ratings.idxmax()\n",
    "\n",
    "#extract the highest rated book by teenagers\n",
    "teenager_ratings = new_df[(new_df['Age'] >= children_to) & (new_df['Age'] < teenager_to)]\n",
    "avg_teenager_ratings = teenager_ratings.groupby(['Book-Title'])['Book-Rating'].mean()\n",
    "highest_rated_teenager = avg_teenager_ratings.idxmax()\n",
    "\n",
    "#extract the highest rated book by adults\n",
    "adult_ratings = new_df[(new_df['Age'] >= teenager_to) & (new_df['Age'] < adult_to)]\n",
    "avg_adult_ratings = adult_ratings.groupby(['Book-Title'])['Book-Rating'].mean()\n",
    "highest_rated_adult = avg_adult_ratings.idxmax()\n",
    "\n",
    "#extract the highest rated book by elders\n",
    "elder_ratings = new_df[new_df['Age'] >= adult_to]\n",
    "avg_elder_ratings = elder_ratings.groupby(['Book-Title'])['Book-Rating'].mean()\n",
    "highest_rated_elder = avg_elder_ratings.idxmax()\n",
    "\n",
    "print(\"Highest Rated Book by Children: \" + highest_rated_children)\n",
    "print(\"Highest Rated Book by Teenagers: \" + highest_rated_teenager)\n",
    "print(\"Highest Rated Book by Adults: \" + highest_rated_adult)\n",
    "print(\"Highest Rated Book by Elders: \" + highest_rated_elder)\n"
   ]
  },
  {
   "cell_type": "markdown",
   "id": "5e26e0bb",
   "metadata": {},
   "source": [
    "## Highest Publisher by Age Group"
   ]
  },
  {
   "cell_type": "code",
   "execution_count": 16,
   "id": "9553f124",
   "metadata": {},
   "outputs": [
    {
     "name": "stdout",
     "output_type": "stream",
     "text": [
      "Highest Rated Publisher by Children: Active Synapse\n",
      "Highest Rated Publisher by Teenagers: A. Michel\n",
      "Highest Rated Publisher by Adults:  Editions P. Terrail\n",
      "Highest Rated Publisher Elders: 22nd. Century, New York\n"
     ]
    }
   ],
   "source": [
    "#extract the highest rated publisher by children\n",
    "avg_children_publisher_ratings = children_ratings.groupby(['Publisher'])['Book-Rating'].mean()\n",
    "highest_publisher_children = avg_children_publisher_ratings.idxmax()\n",
    "\n",
    "#extract the highest rated publisher by teenagers\n",
    "avg_teenager_publisher_ratings = teenager_ratings.groupby(['Publisher'])['Book-Rating'].mean()\n",
    "highest_publisher_teenager = avg_teenager_publisher_ratings.idxmax()\n",
    "\n",
    "#extract the highest rated publisher by adults\n",
    "avg_adult_publisher_ratings = adult_ratings.groupby(['Publisher'])['Book-Rating'].mean()\n",
    "highest_publisher_adult = avg_adult_publisher_ratings.idxmax()\n",
    "\n",
    "#extract the highest rated publisher by elders\n",
    "avg_elder_publisher_ratings = elder_ratings.groupby(['Publisher'])['Book-Rating'].mean()\n",
    "highest_publisher_elder = avg_elder_publisher_ratings.idxmax()\n",
    "\n",
    "print(\"Highest Rated Publisher by Children: \" + highest_publisher_children)\n",
    "print(\"Highest Rated Publisher by Teenagers: \" + highest_publisher_teenager)\n",
    "print(\"Highest Rated Publisher by Adults: \" + highest_publisher_adult)\n",
    "print(\"Highest Rated Publisher Elders: \" + highest_publisher_elder)"
   ]
  },
  {
   "cell_type": "markdown",
   "id": "ad4e5191",
   "metadata": {},
   "source": [
    "## Highest Rated Author per Age Group"
   ]
  },
  {
   "cell_type": "code",
   "execution_count": 17,
   "id": "5ac9ea24",
   "metadata": {},
   "outputs": [
    {
     "name": "stdout",
     "output_type": "stream",
     "text": [
      "Highest Rated Author by Children: ANDREW GUTELLE\n",
      "Highest Rated Author by Teenagers: ALBERT CAMUS\n",
      "Highest Rated Author by Adults: A. D. Mills\n",
      "Highest Rated Author Elders: A. Everitt\n"
     ]
    }
   ],
   "source": [
    "#extract the highest rated Author by children\n",
    "avg_children_author_ratings = children_ratings.groupby(['Book-Author'])['Book-Rating'].mean()\n",
    "highest_author_children = avg_children_author_ratings.idxmax()\n",
    "\n",
    "#extract the highest rated publisher by teenagers\n",
    "avg_teenager_author_ratings = teenager_ratings.groupby(['Book-Author'])['Book-Rating'].mean()\n",
    "highest_author_teenager = avg_teenager_author_ratings.idxmax()\n",
    "\n",
    "#extract the highest rated publisher by adults\n",
    "avg_adult_author_ratings = adult_ratings.groupby(['Book-Author'])['Book-Rating'].mean()\n",
    "highest_author_adult = avg_adult_author_ratings.idxmax()\n",
    "\n",
    "#extract the highest rated publisher by elders\n",
    "avg_elder_author_ratings = elder_ratings.groupby(['Book-Author'])['Book-Rating'].mean()\n",
    "highest_author_elder = avg_elder_author_ratings.idxmax()\n",
    "\n",
    "print(\"Highest Rated Author by Children: \" + highest_author_children)\n",
    "print(\"Highest Rated Author by Teenagers: \" + highest_author_teenager)\n",
    "print(\"Highest Rated Author by Adults: \" + highest_author_adult)\n",
    "print(\"Highest Rated Author Elders: \" + highest_author_elder)"
   ]
  },
  {
   "cell_type": "markdown",
   "id": "0a435e87",
   "metadata": {},
   "source": [
    "## Average Ratings per Age Group"
   ]
  },
  {
   "cell_type": "code",
   "execution_count": 18,
   "id": "59f6dca6",
   "metadata": {},
   "outputs": [
    {
     "name": "stdout",
     "output_type": "stream",
     "text": [
      "Average Book Ratings by Children: 2.83\n",
      "Average Book Ratings by Teenagers: 3.9\n",
      "Average Book Ratings by Adults: 2.75\n",
      "Average Book Ratings by Elder: 2.67\n",
      "Most Optimistic Group: Teenagers with an average rating of 3.9\n"
     ]
    }
   ],
   "source": [
    "#calculate the averages per group\n",
    "avg_children_rating = children_ratings['Book-Rating'].mean()\n",
    "avg_teenager_rating = teenager_ratings['Book-Rating'].mean()\n",
    "avg_adult_rating = adult_ratings['Book-Rating'].mean()\n",
    "avg_elder_rating = elder_ratings['Book-Rating'].mean()\n",
    "\n",
    "#calculate the highest, we could just see it tho xd\n",
    "highest_rating_group = max(avg_children_rating, avg_teenager_rating, avg_adult_rating, avg_elder_rating)\n",
    "\n",
    "print(\"Average Book Ratings by Children: \" + str(round(avg_children_rating, 2)))\n",
    "print(\"Average Book Ratings by Teenagers: \" + str(round(avg_teenager_rating, 2)))\n",
    "print(\"Average Book Ratings by Adults: \" + str(round(avg_adult_rating, 2)))\n",
    "print(\"Average Book Ratings by Elder: \" + str(round(avg_elder_rating, 2)))\n",
    "print(\"Most Optimistic Group: Teenagers with an average rating of \" + str(round(avg_teenager_rating, 2)))"
   ]
  },
  {
   "cell_type": "markdown",
   "id": "1931227a",
   "metadata": {},
   "source": [
    "## Publisher Focus per Age Group"
   ]
  },
  {
   "cell_type": "code",
   "execution_count": 58,
   "id": "142c62a2",
   "metadata": {},
   "outputs": [
    {
     "name": "stdout",
     "output_type": "stream",
     "text": [
      "Publisher with the Most Reviews for Children: Scholastic\n",
      "Publisher with the Most Reviews for Teenagers: Scholastic\n",
      "Publisher with the Most Reviews for Adults: Ballantine Books\n",
      "Publisher with the Most Reviews for Elders: Ballantine Books\n"
     ]
    }
   ],
   "source": [
    "# Calculate the count of reviews for each publisher in each age group\n",
    "children_reviews_nr = children_ratings['Publisher'].value_counts()\n",
    "teenager_reviews_nr = teenager_ratings['Publisher'].value_counts()\n",
    "adult_reviews_nr = adult_ratings['Publisher'].value_counts()\n",
    "elder_reviews_nr = elder_ratings['Publisher'].value_counts()\n",
    "\n",
    "# Find the publishers with the most reviews in each age group\n",
    "focus_publisher_children = children_reviews_nr.idxmax()\n",
    "focus_publisher_teenager = teenager_reviews_nr.idxmax()\n",
    "focus_publisher_adult = adult_reviews_nr.idxmax()\n",
    "focus_publisher_elder = elder_reviews_nr.idxmax()\n",
    "\n",
    "print(\"Publisher with the Most Reviews for Children: \" + focus_publisher_children)\n",
    "print(\"Publisher with the Most Reviews for Teenagers: \" + focus_publisher_teenager)\n",
    "print(\"Publisher with the Most Reviews for Adults: \" + focus_publisher_adult)\n",
    "print(\"Publisher with the Most Reviews for Elders: \" + focus_publisher_elder)"
   ]
  },
  {
   "cell_type": "code",
   "execution_count": null,
   "id": "8bd63fc8",
   "metadata": {},
   "outputs": [],
   "source": []
  }
 ],
 "metadata": {
  "kernelspec": {
   "display_name": "Python 3 (ipykernel)",
   "language": "python",
   "name": "python3"
  },
  "language_info": {
   "codemirror_mode": {
    "name": "ipython",
    "version": 3
   },
   "file_extension": ".py",
   "mimetype": "text/x-python",
   "name": "python",
   "nbconvert_exporter": "python",
   "pygments_lexer": "ipython3",
   "version": "3.10.11"
  }
 },
 "nbformat": 4,
 "nbformat_minor": 5
}
