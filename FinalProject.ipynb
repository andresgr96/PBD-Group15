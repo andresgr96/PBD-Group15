{
 "cells": [
  {
   "cell_type": "markdown",
   "id": "4ba13a38",
   "metadata": {},
   "source": [
    "# Final Project Group 15\n",
    "\n",
    "In this notebook we will carry out the experiments to support our research questions.\n",
    "\n",
    "Group Members:\n",
    "\n",
    "Andres Garcia - 2646142"
   ]
  },
  {
   "cell_type": "markdown",
   "id": "2bf41f05",
   "metadata": {},
   "source": [
    "## Package Imports\n",
    "\n",
    "Run the cell below first always!"
   ]
  },
  {
   "cell_type": "code",
   "execution_count": 2,
   "id": "5302ba87",
   "metadata": {},
   "outputs": [],
   "source": [
    "# Run this cell before anything else to import the packages you are allowed to used for this assignment\n",
    "\n",
    "import numpy as np\n",
    "import pandas as pd\n",
    "import sklearn\n",
    "from scipy import stats\n",
    "import statsmodels.api as sm\n",
    "\n",
    "pd.options.display.max_rows = 20"
   ]
  },
  {
   "cell_type": "markdown",
   "id": "eea6b381",
   "metadata": {},
   "source": [
    "## Loading the Datasets"
   ]
  },
  {
   "cell_type": "code",
   "execution_count": 28,
   "id": "d6331122",
   "metadata": {
    "collapsed": true
   },
   "outputs": [
    {
     "name": "stderr",
     "output_type": "stream",
     "text": [
      "C:\\Users\\andre\\AppData\\Local\\Temp\\ipykernel_10964\\1395339777.py:7: FutureWarning: The error_bad_lines argument has been deprecated and will be removed in a future version. Use on_bad_lines in the future.\n",
      "\n",
      "\n",
      "  booksdf = pd.read_csv(booksdatafile, sep=\";\",\n",
      "Skipping line 6452: expected 8 fields, saw 9\n",
      "Skipping line 43667: expected 8 fields, saw 10\n",
      "Skipping line 51751: expected 8 fields, saw 9\n",
      "\n",
      "Skipping line 92038: expected 8 fields, saw 9\n",
      "Skipping line 104319: expected 8 fields, saw 9\n",
      "Skipping line 121768: expected 8 fields, saw 9\n",
      "\n",
      "Skipping line 144058: expected 8 fields, saw 9\n",
      "Skipping line 150789: expected 8 fields, saw 9\n",
      "Skipping line 157128: expected 8 fields, saw 9\n",
      "Skipping line 180189: expected 8 fields, saw 9\n",
      "Skipping line 185738: expected 8 fields, saw 9\n",
      "\n",
      "Skipping line 209388: expected 8 fields, saw 9\n",
      "Skipping line 220626: expected 8 fields, saw 9\n",
      "Skipping line 227933: expected 8 fields, saw 11\n",
      "Skipping line 228957: expected 8 fields, saw 10\n",
      "Skipping line 245933: expected 8 fields, saw 9\n",
      "Skipping line 251296: expected 8 fields, saw 9\n",
      "Skipping line 259941: expected 8 fields, saw 9\n",
      "Skipping line 261529: expected 8 fields, saw 9\n",
      "\n",
      "C:\\Users\\andre\\AppData\\Local\\Temp\\ipykernel_10964\\1395339777.py:7: DtypeWarning: Columns (3) have mixed types. Specify dtype option on import or set low_memory=False.\n",
      "  booksdf = pd.read_csv(booksdatafile, sep=\";\",\n",
      "C:\\Users\\andre\\AppData\\Local\\Temp\\ipykernel_10964\\1395339777.py:11: FutureWarning: The error_bad_lines argument has been deprecated and will be removed in a future version. Use on_bad_lines in the future.\n",
      "\n",
      "\n",
      "  ratingsdf = pd.read_csv(ratingsdatafile, sep=\";\",\n",
      "C:\\Users\\andre\\AppData\\Local\\Temp\\ipykernel_10964\\1395339777.py:13: FutureWarning: The error_bad_lines argument has been deprecated and will be removed in a future version. Use on_bad_lines in the future.\n",
      "\n",
      "\n",
      "  usersdf = pd.read_csv(usersdatafile, sep=';',\n"
     ]
    }
   ],
   "source": [
    "#store the data files location\n",
    "booksdatafile   = 'books_data/books.csv'\n",
    "ratingsdatafile  = 'books_data/ratings.csv'\n",
    "usersdatafile = 'books_data/users.csv'\n",
    "\n",
    "#load the data as dataframes\n",
    "booksdf = pd.read_csv(booksdatafile, sep=\";\", \n",
    "                    error_bad_lines=False, encoding=\"latin-1\")\n",
    "booksdf.drop(['Image-URL-S', 'Image-URL-M', 'Image-URL-L'],axis=1,inplace=True) #remove the columns we wont use\n",
    "\n",
    "ratingsdf = pd.read_csv(ratingsdatafile, sep=\";\", \n",
    "                    error_bad_lines=False, encoding=\"latin-1\");\n",
    "usersdf = pd.read_csv(usersdatafile, sep=';', \n",
    "                    error_bad_lines=False, encoding=\"latin-1\");"
   ]
  },
  {
   "cell_type": "markdown",
   "id": "2b0f807d",
   "metadata": {},
   "source": [
    "### Books Dataset"
   ]
  },
  {
   "cell_type": "code",
   "execution_count": 29,
   "id": "053b5e58",
   "metadata": {},
   "outputs": [
    {
     "data": {
      "text/html": [
       "<div>\n",
       "<style scoped>\n",
       "    .dataframe tbody tr th:only-of-type {\n",
       "        vertical-align: middle;\n",
       "    }\n",
       "\n",
       "    .dataframe tbody tr th {\n",
       "        vertical-align: top;\n",
       "    }\n",
       "\n",
       "    .dataframe thead th {\n",
       "        text-align: right;\n",
       "    }\n",
       "</style>\n",
       "<table border=\"1\" class=\"dataframe\">\n",
       "  <thead>\n",
       "    <tr style=\"text-align: right;\">\n",
       "      <th></th>\n",
       "      <th>ISBN</th>\n",
       "      <th>Book-Title</th>\n",
       "      <th>Book-Author</th>\n",
       "      <th>Year-Of-Publication</th>\n",
       "      <th>Publisher</th>\n",
       "    </tr>\n",
       "  </thead>\n",
       "  <tbody>\n",
       "    <tr>\n",
       "      <th>0</th>\n",
       "      <td>0195153448</td>\n",
       "      <td>Classical Mythology</td>\n",
       "      <td>Mark P. O. Morford</td>\n",
       "      <td>2002</td>\n",
       "      <td>Oxford University Press</td>\n",
       "    </tr>\n",
       "    <tr>\n",
       "      <th>1</th>\n",
       "      <td>0002005018</td>\n",
       "      <td>Clara Callan</td>\n",
       "      <td>Richard Bruce Wright</td>\n",
       "      <td>2001</td>\n",
       "      <td>HarperFlamingo Canada</td>\n",
       "    </tr>\n",
       "    <tr>\n",
       "      <th>2</th>\n",
       "      <td>0060973129</td>\n",
       "      <td>Decision in Normandy</td>\n",
       "      <td>Carlo D'Este</td>\n",
       "      <td>1991</td>\n",
       "      <td>HarperPerennial</td>\n",
       "    </tr>\n",
       "    <tr>\n",
       "      <th>3</th>\n",
       "      <td>0374157065</td>\n",
       "      <td>Flu: The Story of the Great Influenza Pandemic...</td>\n",
       "      <td>Gina Bari Kolata</td>\n",
       "      <td>1999</td>\n",
       "      <td>Farrar Straus Giroux</td>\n",
       "    </tr>\n",
       "    <tr>\n",
       "      <th>4</th>\n",
       "      <td>0393045218</td>\n",
       "      <td>The Mummies of Urumchi</td>\n",
       "      <td>E. J. W. Barber</td>\n",
       "      <td>1999</td>\n",
       "      <td>W. W. Norton &amp;amp; Company</td>\n",
       "    </tr>\n",
       "  </tbody>\n",
       "</table>\n",
       "</div>"
      ],
      "text/plain": [
       "         ISBN                                         Book-Title  \\\n",
       "0  0195153448                                Classical Mythology   \n",
       "1  0002005018                                       Clara Callan   \n",
       "2  0060973129                               Decision in Normandy   \n",
       "3  0374157065  Flu: The Story of the Great Influenza Pandemic...   \n",
       "4  0393045218                             The Mummies of Urumchi   \n",
       "\n",
       "            Book-Author Year-Of-Publication                   Publisher  \n",
       "0    Mark P. O. Morford                2002     Oxford University Press  \n",
       "1  Richard Bruce Wright                2001       HarperFlamingo Canada  \n",
       "2          Carlo D'Este                1991             HarperPerennial  \n",
       "3      Gina Bari Kolata                1999        Farrar Straus Giroux  \n",
       "4       E. J. W. Barber                1999  W. W. Norton &amp; Company  "
      ]
     },
     "execution_count": 29,
     "metadata": {},
     "output_type": "execute_result"
    }
   ],
   "source": [
    "booksdf.head()"
   ]
  },
  {
   "cell_type": "markdown",
   "id": "0152188d",
   "metadata": {},
   "source": [
    "### Users Dataset"
   ]
  },
  {
   "cell_type": "code",
   "execution_count": 26,
   "id": "b6a8e00b",
   "metadata": {},
   "outputs": [
    {
     "data": {
      "text/html": [
       "<div>\n",
       "<style scoped>\n",
       "    .dataframe tbody tr th:only-of-type {\n",
       "        vertical-align: middle;\n",
       "    }\n",
       "\n",
       "    .dataframe tbody tr th {\n",
       "        vertical-align: top;\n",
       "    }\n",
       "\n",
       "    .dataframe thead th {\n",
       "        text-align: right;\n",
       "    }\n",
       "</style>\n",
       "<table border=\"1\" class=\"dataframe\">\n",
       "  <thead>\n",
       "    <tr style=\"text-align: right;\">\n",
       "      <th></th>\n",
       "      <th>User-ID</th>\n",
       "      <th>Location</th>\n",
       "      <th>Age</th>\n",
       "    </tr>\n",
       "  </thead>\n",
       "  <tbody>\n",
       "    <tr>\n",
       "      <th>0</th>\n",
       "      <td>1</td>\n",
       "      <td>nyc, new york, usa</td>\n",
       "      <td>NaN</td>\n",
       "    </tr>\n",
       "    <tr>\n",
       "      <th>1</th>\n",
       "      <td>2</td>\n",
       "      <td>stockton, california, usa</td>\n",
       "      <td>18.0</td>\n",
       "    </tr>\n",
       "    <tr>\n",
       "      <th>2</th>\n",
       "      <td>3</td>\n",
       "      <td>moscow, yukon territory, russia</td>\n",
       "      <td>NaN</td>\n",
       "    </tr>\n",
       "    <tr>\n",
       "      <th>3</th>\n",
       "      <td>4</td>\n",
       "      <td>porto, v.n.gaia, portugal</td>\n",
       "      <td>17.0</td>\n",
       "    </tr>\n",
       "    <tr>\n",
       "      <th>4</th>\n",
       "      <td>5</td>\n",
       "      <td>farnborough, hants, united kingdom</td>\n",
       "      <td>NaN</td>\n",
       "    </tr>\n",
       "  </tbody>\n",
       "</table>\n",
       "</div>"
      ],
      "text/plain": [
       "   User-ID                            Location   Age\n",
       "0        1                  nyc, new york, usa   NaN\n",
       "1        2           stockton, california, usa  18.0\n",
       "2        3     moscow, yukon territory, russia   NaN\n",
       "3        4           porto, v.n.gaia, portugal  17.0\n",
       "4        5  farnborough, hants, united kingdom   NaN"
      ]
     },
     "execution_count": 26,
     "metadata": {},
     "output_type": "execute_result"
    }
   ],
   "source": [
    "usersdf.head()"
   ]
  },
  {
   "cell_type": "markdown",
   "id": "f062c2c7",
   "metadata": {},
   "source": [
    "### Ratings Dataset"
   ]
  },
  {
   "cell_type": "code",
   "execution_count": 27,
   "id": "ea1aafef",
   "metadata": {},
   "outputs": [
    {
     "data": {
      "text/html": [
       "<div>\n",
       "<style scoped>\n",
       "    .dataframe tbody tr th:only-of-type {\n",
       "        vertical-align: middle;\n",
       "    }\n",
       "\n",
       "    .dataframe tbody tr th {\n",
       "        vertical-align: top;\n",
       "    }\n",
       "\n",
       "    .dataframe thead th {\n",
       "        text-align: right;\n",
       "    }\n",
       "</style>\n",
       "<table border=\"1\" class=\"dataframe\">\n",
       "  <thead>\n",
       "    <tr style=\"text-align: right;\">\n",
       "      <th></th>\n",
       "      <th>User-ID</th>\n",
       "      <th>ISBN</th>\n",
       "      <th>Book-Rating</th>\n",
       "    </tr>\n",
       "  </thead>\n",
       "  <tbody>\n",
       "    <tr>\n",
       "      <th>0</th>\n",
       "      <td>276725</td>\n",
       "      <td>034545104X</td>\n",
       "      <td>0</td>\n",
       "    </tr>\n",
       "    <tr>\n",
       "      <th>1</th>\n",
       "      <td>276726</td>\n",
       "      <td>0155061224</td>\n",
       "      <td>5</td>\n",
       "    </tr>\n",
       "    <tr>\n",
       "      <th>2</th>\n",
       "      <td>276727</td>\n",
       "      <td>0446520802</td>\n",
       "      <td>0</td>\n",
       "    </tr>\n",
       "    <tr>\n",
       "      <th>3</th>\n",
       "      <td>276729</td>\n",
       "      <td>052165615X</td>\n",
       "      <td>3</td>\n",
       "    </tr>\n",
       "    <tr>\n",
       "      <th>4</th>\n",
       "      <td>276729</td>\n",
       "      <td>0521795028</td>\n",
       "      <td>6</td>\n",
       "    </tr>\n",
       "  </tbody>\n",
       "</table>\n",
       "</div>"
      ],
      "text/plain": [
       "   User-ID        ISBN  Book-Rating\n",
       "0   276725  034545104X            0\n",
       "1   276726  0155061224            5\n",
       "2   276727  0446520802            0\n",
       "3   276729  052165615X            3\n",
       "4   276729  0521795028            6"
      ]
     },
     "execution_count": 27,
     "metadata": {},
     "output_type": "execute_result"
    }
   ],
   "source": [
    "ratingsdf.head()"
   ]
  },
  {
   "cell_type": "markdown",
   "id": "81449890",
   "metadata": {},
   "source": [
    "## Merging the frames\n",
    "In order to avoid some calculations all over the dataframes provided, we instead can merge them toguether since the three dataframes are connected through the user-id and the ISBN columns. This way it will be much easier to query the merged frame for information."
   ]
  },
  {
   "cell_type": "code",
   "execution_count": 32,
   "id": "2f143cf9",
   "metadata": {},
   "outputs": [
    {
     "data": {
      "text/html": [
       "<div>\n",
       "<style scoped>\n",
       "    .dataframe tbody tr th:only-of-type {\n",
       "        vertical-align: middle;\n",
       "    }\n",
       "\n",
       "    .dataframe tbody tr th {\n",
       "        vertical-align: top;\n",
       "    }\n",
       "\n",
       "    .dataframe thead th {\n",
       "        text-align: right;\n",
       "    }\n",
       "</style>\n",
       "<table border=\"1\" class=\"dataframe\">\n",
       "  <thead>\n",
       "    <tr style=\"text-align: right;\">\n",
       "      <th></th>\n",
       "      <th>User-ID</th>\n",
       "      <th>ISBN</th>\n",
       "      <th>Book-Rating</th>\n",
       "      <th>Book-Title</th>\n",
       "      <th>Book-Author</th>\n",
       "      <th>Year-Of-Publication</th>\n",
       "      <th>Publisher</th>\n",
       "      <th>Location</th>\n",
       "      <th>Age</th>\n",
       "    </tr>\n",
       "  </thead>\n",
       "  <tbody>\n",
       "    <tr>\n",
       "      <th>0</th>\n",
       "      <td>276725</td>\n",
       "      <td>034545104X</td>\n",
       "      <td>0</td>\n",
       "      <td>Flesh Tones: A Novel</td>\n",
       "      <td>M. J. Rose</td>\n",
       "      <td>2002</td>\n",
       "      <td>Ballantine Books</td>\n",
       "      <td>tyler, texas, usa</td>\n",
       "      <td>NaN</td>\n",
       "    </tr>\n",
       "    <tr>\n",
       "      <th>1</th>\n",
       "      <td>2313</td>\n",
       "      <td>034545104X</td>\n",
       "      <td>5</td>\n",
       "      <td>Flesh Tones: A Novel</td>\n",
       "      <td>M. J. Rose</td>\n",
       "      <td>2002</td>\n",
       "      <td>Ballantine Books</td>\n",
       "      <td>cincinnati, ohio, usa</td>\n",
       "      <td>23.0</td>\n",
       "    </tr>\n",
       "    <tr>\n",
       "      <th>2</th>\n",
       "      <td>2313</td>\n",
       "      <td>0812533550</td>\n",
       "      <td>9</td>\n",
       "      <td>Ender's Game (Ender Wiggins Saga (Paperback))</td>\n",
       "      <td>Orson Scott Card</td>\n",
       "      <td>1986</td>\n",
       "      <td>Tor Books</td>\n",
       "      <td>cincinnati, ohio, usa</td>\n",
       "      <td>23.0</td>\n",
       "    </tr>\n",
       "    <tr>\n",
       "      <th>3</th>\n",
       "      <td>2313</td>\n",
       "      <td>0679745580</td>\n",
       "      <td>8</td>\n",
       "      <td>In Cold Blood (Vintage International)</td>\n",
       "      <td>TRUMAN CAPOTE</td>\n",
       "      <td>1994</td>\n",
       "      <td>Vintage</td>\n",
       "      <td>cincinnati, ohio, usa</td>\n",
       "      <td>23.0</td>\n",
       "    </tr>\n",
       "    <tr>\n",
       "      <th>4</th>\n",
       "      <td>2313</td>\n",
       "      <td>0060173289</td>\n",
       "      <td>9</td>\n",
       "      <td>Divine Secrets of the Ya-Ya Sisterhood : A Novel</td>\n",
       "      <td>Rebecca Wells</td>\n",
       "      <td>1996</td>\n",
       "      <td>HarperCollins</td>\n",
       "      <td>cincinnati, ohio, usa</td>\n",
       "      <td>23.0</td>\n",
       "    </tr>\n",
       "  </tbody>\n",
       "</table>\n",
       "</div>"
      ],
      "text/plain": [
       "   User-ID        ISBN  Book-Rating  \\\n",
       "0   276725  034545104X            0   \n",
       "1     2313  034545104X            5   \n",
       "2     2313  0812533550            9   \n",
       "3     2313  0679745580            8   \n",
       "4     2313  0060173289            9   \n",
       "\n",
       "                                         Book-Title       Book-Author  \\\n",
       "0                              Flesh Tones: A Novel        M. J. Rose   \n",
       "1                              Flesh Tones: A Novel        M. J. Rose   \n",
       "2     Ender's Game (Ender Wiggins Saga (Paperback))  Orson Scott Card   \n",
       "3             In Cold Blood (Vintage International)     TRUMAN CAPOTE   \n",
       "4  Divine Secrets of the Ya-Ya Sisterhood : A Novel     Rebecca Wells   \n",
       "\n",
       "  Year-Of-Publication         Publisher               Location   Age  \n",
       "0                2002  Ballantine Books      tyler, texas, usa   NaN  \n",
       "1                2002  Ballantine Books  cincinnati, ohio, usa  23.0  \n",
       "2                1986         Tor Books  cincinnati, ohio, usa  23.0  \n",
       "3                1994           Vintage  cincinnati, ohio, usa  23.0  \n",
       "4                1996     HarperCollins  cincinnati, ohio, usa  23.0  "
      ]
     },
     "execution_count": 32,
     "metadata": {},
     "output_type": "execute_result"
    }
   ],
   "source": [
    "merge_rating_books = pd.merge(ratingsdf, booksdf, on='ISBN')\n",
    "finaldf = pd.merge(merge_rating_books, usersdf, on='User-ID')\n",
    "finaldf.head(5)"
   ]
  },
  {
   "cell_type": "markdown",
   "id": "67ed2281",
   "metadata": {},
   "source": [
    "It is important to understand that some information will be easier to access from the individual dataframes, for example, calculating how many users are from a given country should be done in the individual dataframe, as the merge one will contain several instances of the same user if they have bought more than one book, which will produce a seemingly valid yet incorrect representation of the user demographics."
   ]
  },
  {
   "cell_type": "markdown",
   "id": "6d369085",
   "metadata": {},
   "source": [
    "# Data Analysys\n",
    "In this section we will carry out all the statistical data analysis in order to obtain valuable data to support or inspire our research questions"
   ]
  },
  {
   "cell_type": "markdown",
   "id": "c7f42feb",
   "metadata": {},
   "source": [
    "### Highest Rated Author"
   ]
  },
  {
   "cell_type": "code",
   "execution_count": 37,
   "id": "5f4262bc",
   "metadata": {},
   "outputs": [
    {
     "name": "stdout",
     "output_type": "stream",
     "text": [
      "Author with the highest average book ratings: A. D. Mills\n"
     ]
    }
   ],
   "source": [
    "mean_author_ratings = finaldf.groupby(['Book-Author'])['Book-Rating'].mean()\n",
    "highest_rated_author = mean_author_ratings.idxmax()\n",
    "print(\"Author with the highest average book ratings:\", highest_rated_author)"
   ]
  },
  {
   "cell_type": "markdown",
   "id": "de17fc11",
   "metadata": {},
   "source": [
    "### Highest Rated Publisher"
   ]
  },
  {
   "cell_type": "code",
   "execution_count": 39,
   "id": "3cd1ab97",
   "metadata": {},
   "outputs": [
    {
     "name": "stdout",
     "output_type": "stream",
     "text": [
      "Publisher with the highest average book ratings:  Editions P. Terrail\n"
     ]
    }
   ],
   "source": [
    "mean_pub_ratings = finaldf.groupby(['Publisher'])['Book-Rating'].mean()\n",
    "highest_rated_pub = mean_pub_ratings.idxmax()\n",
    "print(\"Publisher with the highest average book ratings:\", highest_rated_pub)"
   ]
  },
  {
   "cell_type": "markdown",
   "id": "6ac93f52",
   "metadata": {},
   "source": [
    "### Top Rated Books"
   ]
  },
  {
   "cell_type": "code",
   "execution_count": 73,
   "id": "63fe69c0",
   "metadata": {
    "scrolled": true
   },
   "outputs": [
    {
     "name": "stdout",
     "output_type": "stream",
     "text": [
      "-----------------------------------------------------Top 10 Rated Books--------------------------------------------------\n",
      "Nr. 1 - Film Is: The International Free Cinema\n",
      "Nr. 2 - More Secrets of Happy Children: Embrace Your Power as a Parent--and Help Your Children be Confident, Positive, Well-Adjusted and Happy\n",
      "Nr. 3 - Jo's Boys : From the Original Publisher\n",
      "Nr. 4 - The Vanished Priestess : An Annie Szabo Mystery\n",
      "Nr. 5 - Game and Hunting\n",
      "Nr. 6 - Joan Miro: 1893-1983 (Basic Series)\n",
      "Nr. 7 - The Vampire's Apprentice\n",
      "Nr. 8 - The Vampire in Lore and Legend (Dover Books on Anthropology and Folklore)\n",
      "Nr. 9 - The Vampire in Literature: A Critical Bibliography (Studies in Speculative Fiction, No 21)\n",
      "Nr. 10 - Something Unpredictable: A Novel\n"
     ]
    }
   ],
   "source": [
    "mean_book_ratings = finaldf.groupby(['Book-Title'])['Book-Rating'].mean()\n",
    "sorted_books = mean_book_ratings.sort_values(ascending=False)\n",
    "\n",
    "top_rated_books = sorted_books.head(10)\n",
    "top_rated_books = top_rated_books.index\n",
    "\n",
    "\n",
    "# display(top_rated_books)\n",
    "print(\"-----------------------------------------------------Top 10 Rated Books--------------------------------------------------\")\n",
    "i = 1\n",
    "for title in top_rated_books:\n",
    "    print( \"Nr. \" + str(i) +  \" - \" + title)\n",
    "    i += 1"
   ]
  },
  {
   "cell_type": "code",
   "execution_count": null,
   "id": "1081a2e4",
   "metadata": {},
   "outputs": [],
   "source": []
  }
 ],
 "metadata": {
  "kernelspec": {
   "display_name": "Python 3 (ipykernel)",
   "language": "python",
   "name": "python3"
  },
  "language_info": {
   "codemirror_mode": {
    "name": "ipython",
    "version": 3
   },
   "file_extension": ".py",
   "mimetype": "text/x-python",
   "name": "python",
   "nbconvert_exporter": "python",
   "pygments_lexer": "ipython3",
   "version": "3.10.11"
  }
 },
 "nbformat": 4,
 "nbformat_minor": 5
}
